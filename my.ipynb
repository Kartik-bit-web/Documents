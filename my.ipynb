{
 "cells": [
  {
   "cell_type": "code",
   "execution_count": null,
   "metadata": {},
   "outputs": [],
   "source": [
    "#Importing:-\n",
    "import sqlalchemy as db"
   ]
  },
  {
   "cell_type": "code",
   "execution_count": null,
   "metadata": {},
   "outputs": [],
   "source": [
    "#This is How to Create Table:- \n",
    "engin = db.create_engine('sqlite:///test.db')\n",
    "connection = engin.connect()\n",
    "metadata = db.MetaData()\n",
    "\n",
    "profile = db.Table('emp', metadata,\n",
    "            db.Column('Id', db.Integer()),\n",
    "            db.Column('name', db.String(255), nullable=False),\n",
    "            db.Column('salary', db.Integer(), default=100)\n",
    "           )\n",
    "metadata.create_all(engin)\n"
   ]
  },
  {
   "cell_type": "code",
   "execution_count": null,
   "metadata": {},
   "outputs": [],
   "source": [
    "#This is How to Insert data into Table:- \n",
    "query = db.insert(profile).values(Id=4, name='Jugal', salary=500)\n",
    "result = connection.execute(query)"
   ]
  },
  {
   "cell_type": "code",
   "execution_count": null,
   "metadata": {},
   "outputs": [],
   "source": [
    "#This is How to Fetch all data From Table:- \n",
    "result = connection.execute(db.select([profile])).fetchall()\n",
    "for i in result:\n",
    "    print(i)"
   ]
  },
  {
   "cell_type": "code",
   "execution_count": null,
   "metadata": {},
   "outputs": [],
   "source": [
    "#This is How to Update data in Table:- \n",
    "updateQuery = db.update(profile).values(salary = 4000)\n",
    "queryWhere = updateQuery.where(profile.columns.Id == 4)\n",
    "result = connection.execute(queryWhere)"
   ]
  },
  {
   "cell_type": "code",
   "execution_count": null,
   "metadata": {},
   "outputs": [],
   "source": [
    "#This is How to Delete Data from Table:- \n",
    "deleteQuery = db.delete(profile)\n",
    "queryWhere = deleteQuery.where(profile.columns.Id == 1)\n",
    "result = connection.execute(queryWhere)"
   ]
  }
 ],
 "metadata": {
  "kernelspec": {
   "display_name": "Python 3",
   "language": "python",
   "name": "python3"
  },
  "language_info": {
   "codemirror_mode": {
    "name": "ipython",
    "version": 3
   },
   "file_extension": ".py",
   "mimetype": "text/x-python",
   "name": "python",
   "nbconvert_exporter": "python",
   "pygments_lexer": "ipython3",
   "version": "3.10.4"
  },
  "orig_nbformat": 4
 },
 "nbformat": 4,
 "nbformat_minor": 2
}
